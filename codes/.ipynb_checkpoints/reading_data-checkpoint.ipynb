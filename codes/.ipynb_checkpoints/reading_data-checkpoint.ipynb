{
 "cells": [
  {
   "cell_type": "code",
   "execution_count": 1,
   "metadata": {},
   "outputs": [],
   "source": [
    "import pandas as pd\n",
    "import numpy as np\n",
    "import time\n",
    "import medpy.io.load as load\n",
    "import SimpleITK as sitk\n",
    "import matplotlib.pyplot as plt\n",
    "import os\n",
    "# Falta temrminar las rutas para los pacientes\n",
    "# Ver que las mascaras estén con las T1\n",
    "# En vez de que pase el arreglo en la funcion drop mejor paso uno pero que la funcion se llame en un for"
   ]
  },
  {
   "cell_type": "code",
   "execution_count": 2,
   "metadata": {},
   "outputs": [
    {
     "name": "stdout",
     "output_type": "stream",
     "text": [
      "E:\\repositorios\\ai-course\\\n"
     ]
    }
   ],
   "source": [
    "pwd = os.getcwd().replace('codes', '')\n",
    "print(pwd)"
   ]
  },
  {
   "cell_type": "code",
   "execution_count": 3,
   "metadata": {
    "scrolled": true
   },
   "outputs": [],
   "source": [
    "# Reading data\n",
    "data = pd.read_csv('./patients_routes.csv', encoding='utf-8')\n",
    "# data.head()"
   ]
  },
  {
   "cell_type": "code",
   "execution_count": 4,
   "metadata": {},
   "outputs": [],
   "source": [
    "def dropPattern(patient):\n",
    "    sep = '/VSD'\n",
    "    text = patient\n",
    "    stripped = patient.split(sep, 1)[0]\n",
    "#    patients = []\n",
    "#    for i in arr:\n",
    "#        text = i\n",
    "#        stripped = text.split(sep, 1)[0]\n",
    "#        patients.append(stripped)\n",
    "#        print(stripped)\n",
    "    return stripped"
   ]
  },
  {
   "cell_type": "code",
   "execution_count": 5,
   "metadata": {},
   "outputs": [
    {
     "data": {
      "text/plain": [
       "['data/HG/0001/VSD.Brain_3more.XX.XX.OT/VSD.Brain_3more.XX.XX.OT.6560.mha',\n",
       " 'data/HG/0002/VSD.Brain_3more.XX.XX.OT/VSD.Brain_3more.XX.XX.OT.6562.mha',\n",
       " 'data/HG/0003/VSD.Brain_3more.XX.XX.OT/VSD.Brain_3more.XX.XX.OT.6564.mha',\n",
       " 'data/HG/0004/VSD.Brain_3more.XX.XX.OT/VSD.Brain_3more.XX.XX.OT.6566.mha',\n",
       " 'data/HG/0005/VSD.Brain_3more.XX.XX.OT/VSD.Brain_3more.XX.XX.OT.6568.mha']"
      ]
     },
     "execution_count": 5,
     "metadata": {},
     "output_type": "execute_result"
    }
   ],
   "source": [
    "mask_routes = data[data['routes'].str.contains('more')]\n",
    "mask_routes = mask_routes['routes'].values.tolist()\n",
    "mask_routes[:5]\n",
    "#patient_mask = dropPattern(mask_routes) # Patients with masks"
   ]
  },
  {
   "cell_type": "code",
   "execution_count": 9,
   "metadata": {},
   "outputs": [],
   "source": [
    "full_routes = []\n",
    "for i in range(data.shape[0]):\n",
    "#    # path = base_path + '/' + data.iloc[i,0]\n",
    "#    # path = os.path.join(pwd, data.iloc[i,0])\n",
    "    path = data.iloc[i,0]\n",
    "    full_routes.append(path)\n",
    "#    if (i <= 5):\n",
    "#        print(path)"
   ]
  },
  {
   "cell_type": "code",
   "execution_count": 10,
   "metadata": {},
   "outputs": [
    {
     "data": {
      "text/plain": [
       "['data/HG/0001/VSD.Brain.XX.O.MR_T1c/VSD.Brain.XX.O.MR_T1c.686.mha',\n",
       " 'data/HG/0002/VSD.Brain.XX.O.MR_T1c/VSD.Brain.XX.O.MR_T1c.693.mha',\n",
       " 'data/HG/0003/VSD.Brain.XX.O.MR_T1c/VSD.Brain.XX.O.MR_T1c.699.mha',\n",
       " 'data/HG/0004/VSD.Brain.XX.O.MR_T1c/VSD.Brain.XX.O.MR_T1c.705.mha',\n",
       " 'data/HG/0005/VSD.Brain.XX.O.MR_T1c/VSD.Brain.XX.O.MR_T1c.711.mha']"
      ]
     },
     "execution_count": 10,
     "metadata": {},
     "output_type": "execute_result"
    }
   ],
   "source": [
    "df_routes = pd.DataFrame(full_routes, columns=(['Routes']))\n",
    "T1 = df_routes[df_routes['Routes'].str.contains('T1c')]\n",
    "T1 = T1['Routes'].values.tolist()\n",
    "T1[:5]\n",
    "#patientsT1 = dropPattern(T1)"
   ]
  },
  {
   "cell_type": "code",
   "execution_count": 11,
   "metadata": {},
   "outputs": [
    {
     "data": {
      "text/plain": [
       "[['data/HG/0001/VSD.Brain_3more.XX.XX.OT/VSD.Brain_3more.XX.XX.OT.6560.mha',\n",
       "  'data/HG/0001/VSD.Brain.XX.O.MR_T1c/VSD.Brain.XX.O.MR_T1c.686.mha'],\n",
       " ['data/HG/0002/VSD.Brain_3more.XX.XX.OT/VSD.Brain_3more.XX.XX.OT.6562.mha',\n",
       "  'data/HG/0002/VSD.Brain.XX.O.MR_T1c/VSD.Brain.XX.O.MR_T1c.693.mha'],\n",
       " ['data/HG/0003/VSD.Brain_3more.XX.XX.OT/VSD.Brain_3more.XX.XX.OT.6564.mha',\n",
       "  'data/HG/0003/VSD.Brain.XX.O.MR_T1c/VSD.Brain.XX.O.MR_T1c.699.mha'],\n",
       " ['data/HG/0004/VSD.Brain_3more.XX.XX.OT/VSD.Brain_3more.XX.XX.OT.6566.mha',\n",
       "  'data/HG/0004/VSD.Brain.XX.O.MR_T1c/VSD.Brain.XX.O.MR_T1c.705.mha'],\n",
       " ['data/HG/0005/VSD.Brain_3more.XX.XX.OT/VSD.Brain_3more.XX.XX.OT.6568.mha',\n",
       "  'data/HG/0005/VSD.Brain.XX.O.MR_T1c/VSD.Brain.XX.O.MR_T1c.711.mha']]"
      ]
     },
     "execution_count": 11,
     "metadata": {},
     "output_type": "execute_result"
    }
   ],
   "source": [
    "patients = []\n",
    "for i in mask_routes:\n",
    "    for j in T1:\n",
    "        if (dropPattern(i) == dropPattern(j)):\n",
    "            pat = [i, j]\n",
    "            patients.append(pat)\n",
    "patients[:5]\n",
    "#print(len(patients))"
   ]
  },
  {
   "cell_type": "code",
   "execution_count": 32,
   "metadata": {},
   "outputs": [],
   "source": [
    "for i, j in patients:\n",
    "    maskImage, maskHeader = load(pwd + i)\n",
    "    maskImage = maskImage.astype('uint8')\n",
    "    realImage, realHeader = load(pwd + j)\n",
    "    realImage = realImage.astype('uint8')\n",
    "    #Aqui se debe hacer toda la extracción de características\n",
    "    # Multiplicar la máscara por el valor real y extraer la textura\n",
    "    # print(maskImage.shape, realImage.shape)\n",
    "    # time.sleep(.5)"
   ]
  },
  {
   "cell_type": "code",
   "execution_count": 33,
   "metadata": {},
   "outputs": [],
   "source": [
    "#image, header = load(df_routes.iloc[-1, 0])"
   ]
  },
  {
   "cell_type": "code",
   "execution_count": 34,
   "metadata": {},
   "outputs": [
    {
     "data": {
      "text/plain": [
       "(162, 230, 230)"
      ]
     },
     "execution_count": 34,
     "metadata": {},
     "output_type": "execute_result"
    }
   ],
   "source": [
    "maskImage.shape"
   ]
  },
  {
   "cell_type": "code",
   "execution_count": 35,
   "metadata": {},
   "outputs": [
    {
     "data": {
      "text/plain": [
       "<matplotlib.image.AxesImage at 0x1d911b2f2e0>"
      ]
     },
     "execution_count": 35,
     "metadata": {},
     "output_type": "execute_result"
    },
    {
     "data": {
      "image/png": "[encoded data removed]",
      "text/plain": [
       "<Figure size 432x288 with 1 Axes>"
      ]
     },
     "metadata": {
      "needs_background": "light"
     },
     "output_type": "display_data"
    }
   ],
   "source": [
    "plt.imshow(maskImage[:,:,110], 'gray')"
   ]
  },
  {
   "cell_type": "code",
   "execution_count": 41,
   "metadata": {},
   "outputs": [],
   "source": [
    "maskImage[maskImage != 3] = 0\n",
    "maskImage[maskImage == 3] = 1"
   ]
  },
  {
   "cell_type": "code",
   "execution_count": 42,
   "metadata": {},
   "outputs": [
    {
     "data": {
      "text/plain": [
       "<matplotlib.image.AxesImage at 0x1d9100de1f0>"
      ]
     },
     "execution_count": 42,
     "metadata": {},
     "output_type": "execute_result"
    },
    {
     "data": {
      "image/png": "[encoded data removed]",
      "text/plain": [
       "<Figure size 432x288 with 1 Axes>"
      ]
     },
     "metadata": {
      "needs_background": "light"
     },
     "output_type": "display_data"
    }
   ],
   "source": [
    "plt.imshow(maskImage[:,:,110], 'gray')"
   ]
  },
  {
   "cell_type": "code",
   "execution_count": 43,
   "metadata": {},
   "outputs": [
    {
     "data": {
      "text/plain": [
       "array([0, 1], dtype=uint8)"
      ]
     },
     "execution_count": 43,
     "metadata": {},
     "output_type": "execute_result"
    }
   ],
   "source": [
    "np.unique(maskImage[:,:,:])"
   ]
  },
  {
   "cell_type": "code",
   "execution_count": 28,
   "metadata": {},
   "outputs": [
    {
     "data": {
      "text/plain": [
       "<matplotlib.image.AxesImage at 0x1d912641820>"
      ]
     },
     "execution_count": 28,
     "metadata": {},
     "output_type": "execute_result"
    },
    {
     "data": {
      "image/png": "[encoded data removed]",
      "text/plain": [
       "<Figure size 432x288 with 1 Axes>"
      ]
     },
     "metadata": {
      "needs_background": "light"
     },
     "output_type": "display_data"
    }
   ],
   "source": [
    "plt.imshow(realImage[:,:,110], 'gray')"
   ]
  },
  {
   "cell_type": "code",
   "execution_count": 44,
   "metadata": {},
   "outputs": [],
   "source": [
    "result = maskImage * realImage"
   ]
  },
  {
   "cell_type": "code",
   "execution_count": 45,
   "metadata": {},
   "outputs": [
    {
     "data": {
      "text/plain": [
       "<matplotlib.image.AxesImage at 0x1d911bab400>"
      ]
     },
     "execution_count": 45,
     "metadata": {},
     "output_type": "execute_result"
    },
    {
     "data": {
      "image/png": "[encoded data removed]",
      "text/plain": [
       "<Figure size 432x288 with 1 Axes>"
      ]
     },
     "metadata": {
      "needs_background": "light"
     },
     "output_type": "display_data"
    }
   ],
   "source": [
    "plt.imshow(result[:,:,110], 'gray')"
   ]
  },
  {
   "cell_type": "code",
   "execution_count": 46,
   "metadata": {},
   "outputs": [
    {
     "data": {
      "text/plain": [
       "array([ 0, 30, 31, 32, 33, 34, 35, 36, 37, 38, 39, 40, 41, 42, 43, 44, 45,\n",
       "       46, 47], dtype=uint8)"
      ]
     },
     "execution_count": 46,
     "metadata": {},
     "output_type": "execute_result"
    }
   ],
   "source": [
    "np.unique(result[:,:,110])"
   ]
  },
  {
   "cell_type": "code",
   "execution_count": null,
   "metadata": {},
   "outputs": [],
   "source": []
  }
 ],
 "metadata": {
  "kernelspec": {
   "display_name": "Python 3",
   "language": "python",
   "name": "python3"
  },
  "language_info": {
   "codemirror_mode": {
    "name": "ipython",
    "version": 3
   },
   "file_extension": ".py",
   "mimetype": "text/x-python",
   "name": "python",
   "nbconvert_exporter": "python",
   "pygments_lexer": "ipython3",
   "version": "3.8.5"
  }
 },
 "nbformat": 4,
 "nbformat_minor": 4
}
