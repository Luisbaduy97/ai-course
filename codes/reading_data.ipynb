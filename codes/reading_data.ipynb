{
 "cells": [
  {
   "cell_type": "code",
   "execution_count": 1,
   "metadata": {},
   "outputs": [],
   "source": [
    "import pandas as pd\n",
    "import time"
   ]
  },
  {
   "cell_type": "code",
   "execution_count": 3,
   "metadata": {},
   "outputs": [
    {
     "output_type": "execute_result",
     "data": {
      "text/plain": [
       "                                              routes\n",
       "0  data/HG/0001/VSD.Brain.XX.O.MR_Flair/VSD.Brain...\n",
       "1  data/HG/0001/VSD.Brain.XX.O.MR_T1/VSD.Brain.XX...\n",
       "2  data/HG/0001/VSD.Brain.XX.O.MR_T1c/VSD.Brain.X...\n",
       "3  data/HG/0001/VSD.Brain.XX.O.MR_T2/VSD.Brain.XX...\n",
       "4  data/HG/0001/VSD.Brain_3more.XX.XX.OT/VSD.Brai..."
      ],
      "text/html": "<div>\n<style scoped>\n    .dataframe tbody tr th:only-of-type {\n        vertical-align: middle;\n    }\n\n    .dataframe tbody tr th {\n        vertical-align: top;\n    }\n\n    .dataframe thead th {\n        text-align: right;\n    }\n</style>\n<table border=\"1\" class=\"dataframe\">\n  <thead>\n    <tr style=\"text-align: right;\">\n      <th></th>\n      <th>routes</th>\n    </tr>\n  </thead>\n  <tbody>\n    <tr>\n      <th>0</th>\n      <td>data/HG/0001/VSD.Brain.XX.O.MR_Flair/VSD.Brain...</td>\n    </tr>\n    <tr>\n      <th>1</th>\n      <td>data/HG/0001/VSD.Brain.XX.O.MR_T1/VSD.Brain.XX...</td>\n    </tr>\n    <tr>\n      <th>2</th>\n      <td>data/HG/0001/VSD.Brain.XX.O.MR_T1c/VSD.Brain.X...</td>\n    </tr>\n    <tr>\n      <th>3</th>\n      <td>data/HG/0001/VSD.Brain.XX.O.MR_T2/VSD.Brain.XX...</td>\n    </tr>\n    <tr>\n      <th>4</th>\n      <td>data/HG/0001/VSD.Brain_3more.XX.XX.OT/VSD.Brai...</td>\n    </tr>\n  </tbody>\n</table>\n</div>"
     },
     "metadata": {},
     "execution_count": 3
    }
   ],
   "source": [
    "# Reading data\n",
    "data = pd.read_csv('./patients_routes.csv', encoding='utf-8')\n",
    "data.head()"
   ]
  },
  {
   "cell_type": "code",
   "execution_count": 4,
   "metadata": {},
   "outputs": [],
   "source": [
    "base_path = 'D:/repositorios/ai-course'"
   ]
  },
  {
   "cell_type": "code",
   "execution_count": 5,
   "metadata": {},
   "outputs": [
    {
     "output_type": "stream",
     "name": "stdout",
     "text": [
      "D:/repositorios/ai-course/data/HG/0001/VSD.Brain.XX.O.MR_Flair/VSD.Brain.XX.O.MR_Flair.684.mha\nD:/repositorios/ai-course/data/HG/0001/VSD.Brain.XX.O.MR_T1/VSD.Brain.XX.O.MR_T1.685.mha\nD:/repositorios/ai-course/data/HG/0001/VSD.Brain.XX.O.MR_T1c/VSD.Brain.XX.O.MR_T1c.686.mha\nD:/repositorios/ai-course/data/HG/0001/VSD.Brain.XX.O.MR_T2/VSD.Brain.XX.O.MR_T2.687.mha\nD:/repositorios/ai-course/data/HG/0001/VSD.Brain_3more.XX.XX.OT/VSD.Brain_3more.XX.XX.OT.6560.mha\nD:/repositorios/ai-course/data/HG/0002/VSD.Brain.XX.O.MR_Flair/VSD.Brain.XX.O.MR_Flair.691.mha\n"
     ]
    }
   ],
   "source": [
    "for i in range(data.shape[0]):\n",
    "    if (i <= 5):\n",
    "        print(base_path + '/' + data.iloc[i,0])\n",
    "    else:\n",
    "        break"
   ]
  },
  {
   "cell_type": "code",
   "execution_count": null,
   "metadata": {},
   "outputs": [],
   "source": []
  }
 ],
 "metadata": {
  "kernelspec": {
   "display_name": "Python 3",
   "language": "python",
   "name": "python3"
  },
  "language_info": {
   "codemirror_mode": {
    "name": "ipython",
    "version": 3
   },
   "file_extension": ".py",
   "mimetype": "text/x-python",
   "name": "python",
   "nbconvert_exporter": "python",
   "pygments_lexer": "ipython3",
   "version": "3.8.3-final"
  }
 },
 "nbformat": 4,
 "nbformat_minor": 4
}